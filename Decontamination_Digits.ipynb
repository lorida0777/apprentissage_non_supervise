{
 "cells": [
  {
   "cell_type": "code",
   "execution_count": 1,
   "id": "4bab02c0-e21d-452e-b036-d0f54913e0aa",
   "metadata": {},
   "outputs": [],
   "source": [
    "from sklearn.datasets import make_blobs\n",
    "import matplotlib.pyplot as plt\n",
    "import numpy as np"
   ]
  },
  {
   "cell_type": "code",
   "execution_count": 2,
   "id": "43a4d5d1-7173-4cc3-9505-6fd24c232dcb",
   "metadata": {},
   "outputs": [],
   "source": [
    "from sklearn.datasets import load_digits"
   ]
  },
  {
   "cell_type": "code",
   "execution_count": 3,
   "id": "9a31cdd9-0502-427c-a414-3b4068e3ae38",
   "metadata": {},
   "outputs": [
    {
     "name": "stdout",
     "output_type": "stream",
     "text": [
      "(1797, 64)\n"
     ]
    }
   ],
   "source": [
    "digits = load_digits()\n",
    "images = digits.images\n",
    "X = digits.data\n",
    "y = digits.target\n",
    "\n",
    "print(X.shape)"
   ]
  },
  {
   "cell_type": "code",
   "execution_count": 4,
   "id": "4196143f-182d-4e45-b0dd-979ffe584402",
   "metadata": {},
   "outputs": [
    {
     "data": {
      "text/plain": [
       "<matplotlib.image.AxesImage at 0x27b4615a5a0>"
      ]
     },
     "execution_count": 4,
     "metadata": {},
     "output_type": "execute_result"
    },
    {
     "data": {
      "image/png": "[encoded data removed]",
      "text/plain": [
       "<Figure size 640x480 with 1 Axes>"
      ]
     },
     "metadata": {},
     "output_type": "display_data"
    }
   ],
   "source": [
    "plt.imshow(images[42])"
   ]
  },
  {
   "cell_type": "code",
   "execution_count": 5,
   "id": "a52e5e60-4d2e-48c8-a812-50b15558a46a",
   "metadata": {},
   "outputs": [],
   "source": [
    "from sklearn.ensemble import IsolationForest"
   ]
  },
  {
   "cell_type": "code",
   "execution_count": 6,
   "id": "305ba10b-bda1-41bc-ac12-e9aaa31082a1",
   "metadata": {},
   "outputs": [],
   "source": [
    "model = IsolationForest(random_state= 0, contamination=0.01)"
   ]
  },
  {
   "cell_type": "code",
   "execution_count": null,
   "id": "973245a8-2b59-4274-8192-5ebbcd461751",
   "metadata": {},
   "outputs": [],
   "source": []
  }
 ],
 "metadata": {
  "kernelspec": {
   "display_name": "Python [conda env:base] *",
   "language": "python",
   "name": "conda-base-py"
  },
  "language_info": {
   "codemirror_mode": {
    "name": "ipython",
    "version": 3
   },
   "file_extension": ".py",
   "mimetype": "text/x-python",
   "name": "python",
   "nbconvert_exporter": "python",
   "pygments_lexer": "ipython3",
   "version": "3.12.7"
  }
 },
 "nbformat": 4,
 "nbformat_minor": 5
}
